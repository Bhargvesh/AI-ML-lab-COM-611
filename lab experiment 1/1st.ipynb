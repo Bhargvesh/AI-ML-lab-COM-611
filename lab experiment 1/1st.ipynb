{
  "nbformat": 4,
  "nbformat_minor": 0,
  "metadata": {
    "colab": {
      "provenance": []
    },
    "kernelspec": {
      "name": "python3",
      "display_name": "Python 3"
    },
    "language_info": {
      "name": "python"
    }
  },
  "cells": [
    {
      "cell_type": "code",
      "execution_count": 3,
      "metadata": {
        "colab": {
          "base_uri": "https://localhost:8080/"
        },
        "id": "rmj2mwKGkCyb",
        "outputId": "c8209422-653f-41cf-fbc3-3b78e223809f"
      },
      "outputs": [
        {
          "output_type": "stream",
          "name": "stdout",
          "text": [
            "Index(['Sunny', 'Warm', 'Normal', 'Strong', 'Warm.1', 'Same', 'Yes'], dtype='object')\n"
          ]
        }
      ],
      "source": [
        "import numpy as np\n",
        "import pandas as pd\n",
        "data = pd.read_csv('ws.csv')\n",
        "print(data.columns)\n",
        "\n"
      ]
    },
    {
      "cell_type": "code",
      "source": [
        "import csv\n",
        "\n",
        "def loadCsv(filename):\n",
        "    lines = csv.reader(open(filename, \"r\"))\n",
        "    dataset = list(lines)\n",
        "    for i in range(len(dataset)):\n",
        "        dataset[i] = dataset[i]\n",
        "    return dataset\n",
        "\n",
        "attributes = ['Sky', 'Temp', 'Humidity', 'Wind', 'Water', 'Forecast']\n",
        "print('Attributes =', attributes)\n",
        "num_attributes = len(attributes)\n",
        "filename = \"ws.csv\"\n",
        "dataset = loadCsv(filename)\n",
        "print(\"Dataset:\", dataset)\n",
        "hypothesis = ['0'] * num_attributes\n",
        "print(\"Initial Hypothesis:\")\n",
        "print(hypothesis)\n",
        "print(\"The Hypotheses are:\")\n",
        "for i in range(len(dataset)):\n",
        "    target = dataset[i][-1]\n",
        "    if target == 'Yes':\n",
        "        for j in range(num_attributes):\n",
        "            if hypothesis[j] == '0':\n",
        "                hypothesis[j] = dataset[i][j]\n",
        "            elif hypothesis[j] != dataset[i][j]:\n",
        "                hypothesis[j] = '?'\n",
        "        print(f\"{i + 1} = {hypothesis}\")\n",
        "print(\"Final Hypothesis:\")\n",
        "print(hypothesis)"
      ],
      "metadata": {
        "colab": {
          "base_uri": "https://localhost:8080/"
        },
        "id": "s3eN78YjkII_",
        "outputId": "35c566b2-a752-4707-e116-ba361359382b"
      },
      "execution_count": 4,
      "outputs": [
        {
          "output_type": "stream",
          "name": "stdout",
          "text": [
            "Attributes = ['Sky', 'Temp', 'Humidity', 'Wind', 'Water', 'Forecast']\n",
            "Dataset: [['Sunny', 'Warm', 'Normal', 'Strong', 'Warm', 'Same', 'Yes'], ['Sunny', 'Warm', 'High', 'Strong', 'Warm', 'Same', 'Yes'], ['Rainy', 'Cold', 'High', 'Strong', 'Warm', 'Change', 'No'], ['Sunny', 'Warm', 'High', 'Strong', 'Cool', 'Change', 'Yes']]\n",
            "Initial Hypothesis:\n",
            "['0', '0', '0', '0', '0', '0']\n",
            "The Hypotheses are:\n",
            "1 = ['Sunny', 'Warm', 'Normal', 'Strong', 'Warm', 'Same']\n",
            "2 = ['Sunny', 'Warm', '?', 'Strong', 'Warm', 'Same']\n",
            "4 = ['Sunny', 'Warm', '?', 'Strong', '?', '?']\n",
            "Final Hypothesis:\n",
            "['Sunny', 'Warm', '?', 'Strong', '?', '?']\n"
          ]
        }
      ]
    },
    {
      "cell_type": "code",
      "source": [],
      "metadata": {
        "id": "gJ2-LH6rkOGA"
      },
      "execution_count": null,
      "outputs": []
    }
  ]
}