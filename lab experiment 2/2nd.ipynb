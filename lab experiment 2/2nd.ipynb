{
  "nbformat": 4,
  "nbformat_minor": 0,
  "metadata": {
    "colab": {
      "provenance": []
    },
    "kernelspec": {
      "name": "python3",
      "display_name": "Python 3"
    },
    "language_info": {
      "name": "python"
    }
  },
  "cells": [
    {
      "cell_type": "code",
      "execution_count": 20,
      "metadata": {
        "id": "GLxYu2cweX3L"
      },
      "outputs": [],
      "source": [
        "import numpy as np\n",
        "import pandas as pd"
      ]
    },
    {
      "source": [
        "data=pd.read_csv('ws.csv')\n",
        "print(data)"
      ],
      "cell_type": "code",
      "metadata": {
        "colab": {
          "base_uri": "https://localhost:8080/"
        },
        "id": "iqkUM5YNga29",
        "outputId": "c64ce60c-7c21-4afd-e09e-f06413d6dad5"
      },
      "execution_count": 21,
      "outputs": [
        {
          "output_type": "stream",
          "name": "stdout",
          "text": [
            "   Sunny  Warm Normal  Strong Warm.1    Same  Yes\n",
            "0  Sunny  Warm   High  Strong   Warm    Same  Yes\n",
            "1  Rainy  Cold   High  Strong   Warm  Change   No\n",
            "2  Sunny  Warm   High  Strong   Cool  Change  Yes\n"
          ]
        }
      ]
    },
    {
      "source": [
        "concepts=np.array(data.iloc[:,0:-1])\n",
        "print(concepts)"
      ],
      "cell_type": "code",
      "metadata": {
        "colab": {
          "base_uri": "https://localhost:8080/"
        },
        "id": "6uqeK2Q8iBmD",
        "outputId": "513d464c-75da-4563-de5e-eaa3c63658df"
      },
      "execution_count": 19,
      "outputs": [
        {
          "output_type": "stream",
          "name": "stdout",
          "text": [
            "[['Sunny' 'Warm' 'High' 'Strong' 'Warm' 'Same']\n",
            " ['Rainy' 'Cold' 'High' 'Strong' 'Warm' 'Change']\n",
            " ['Sunny' 'Warm' 'High' 'Strong' 'Cool' 'Change']]\n"
          ]
        }
      ]
    },
    {
      "cell_type": "code",
      "source": [
        "target=np.array(data.iloc[:,-1])\n",
        "print(target)"
      ],
      "metadata": {
        "colab": {
          "base_uri": "https://localhost:8080/"
        },
        "id": "-jb26ZGPnj6G",
        "outputId": "cfffaa2e-10e9-49a4-cc29-835fc0ec648a"
      },
      "execution_count": 14,
      "outputs": [
        {
          "output_type": "stream",
          "name": "stdout",
          "text": [
            "['Yes' 'No' 'Yes']\n"
          ]
        }
      ]
    },
    {
      "cell_type": "code",
      "source": [
        "def learn(concepts, target):\n",
        "    specific_h = concepts[0].copy()\n",
        "    print(\"initialization of specific_h and general_h\")\n",
        "    print(specific_h)\n",
        "    general_h = [[\"?\" for i in range(len(specific_h))] for i in range(len(specific_h))]\n",
        "    print(general_h)\n",
        "    for i, h in enumerate(concepts):\n",
        "        if target[i] == \"Yes\":\n",
        "            for x in range(len(specific_h)):\n",
        "                if h[x] != specific_h[x]:\n",
        "                    specific_h[x] = '?'\n",
        "                    general_h[x][x] = '?' # Corrected: general_h should be modified, not general-h\n",
        "        if target[i] == \"No\":\n",
        "            for x in range(len(specific_h)):\n",
        "                if h[x] != specific_h[x]: # Corrected: condition should be != for negative examples\n",
        "                    general_h[x][x] = specific_h[x]\n",
        "                else:\n",
        "                    general_h[x][x] = '?'\n",
        "    print(\"\\nSteps of Candidate Elimination Algorithm\",i+1)\n",
        "    print(specific_h)\n",
        "    print(general_h)\n",
        "\n",
        "    indices = [i for i, val in enumerate(general_h) if val == ['?', '?', '?', '?', '?', '?']] # Corrected: Indentation fixed\n",
        "    for i in indices:\n",
        "        general_h.remove(['?', '?', '?', '?', '?', '?'])\n",
        "    return specific_h, general_h # Corrected: Indentation fixed"
      ],
      "metadata": {
        "id": "u0oxnV1hnrgc"
      },
      "execution_count": 15,
      "outputs": []
    },
    {
      "cell_type": "code",
      "source": [
        "s_final, g_final = learn(concepts, target)\n",
        "print(\"Final Specific_h:\", s_final, sep=\"\\n\")\n",
        "print(\"Final General_h:\", g_final, sep=\"\\n\")"
      ],
      "metadata": {
        "colab": {
          "base_uri": "https://localhost:8080/"
        },
        "id": "iyLtbZzjhgZ4",
        "outputId": "411ac614-40b8-41c7-8570-1c538d69f3ed"
      },
      "execution_count": 16,
      "outputs": [
        {
          "output_type": "stream",
          "name": "stdout",
          "text": [
            "initialization of specific_h and general_h\n",
            "['Sunny' 'Warm' 'High' 'Strong' 'Warm' 'Same']\n",
            "[['?', '?', '?', '?', '?', '?'], ['?', '?', '?', '?', '?', '?'], ['?', '?', '?', '?', '?', '?'], ['?', '?', '?', '?', '?', '?'], ['?', '?', '?', '?', '?', '?'], ['?', '?', '?', '?', '?', '?']]\n",
            "\n",
            "Steps of Candidate Elimination Algorithm 3\n",
            "['Sunny' 'Warm' 'High' 'Strong' '?' '?']\n",
            "[['Sunny', '?', '?', '?', '?', '?'], ['?', 'Warm', '?', '?', '?', '?'], ['?', '?', '?', '?', '?', '?'], ['?', '?', '?', '?', '?', '?'], ['?', '?', '?', '?', '?', '?'], ['?', '?', '?', '?', '?', '?']]\n",
            "Final Specific_h:\n",
            "['Sunny' 'Warm' 'High' 'Strong' '?' '?']\n",
            "Final General_h:\n",
            "[['Sunny', '?', '?', '?', '?', '?'], ['?', 'Warm', '?', '?', '?', '?']]\n"
          ]
        }
      ]
    }
  ]
}